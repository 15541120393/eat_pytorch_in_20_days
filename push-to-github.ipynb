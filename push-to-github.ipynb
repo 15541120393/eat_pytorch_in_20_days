{
 "cells": [
  {
   "cell_type": "markdown",
   "id": "dbcca124",
   "metadata": {},
   "source": [
    "## 推送主分支"
   ]
  },
  {
   "cell_type": "code",
   "execution_count": null,
   "id": "06ee77d9",
   "metadata": {},
   "outputs": [],
   "source": [
    "!git config --global user.email \"lyhue1991@163.com\"\n",
    "# 出现一些类似 warning: LF will be replaced by CRLF in <file-name>. 可启用如下设置。\n",
    "!git config --global core.autocrlf false\n",
    "# 配置打印历史commit的快捷命令\n",
    "!git config --global alias.lg \"log --oneline --graph --all\""
   ]
  },
  {
   "cell_type": "code",
   "execution_count": null,
   "id": "74646c2b",
   "metadata": {},
   "outputs": [],
   "source": [
    "!git init"
   ]
  },
  {
   "cell_type": "code",
   "execution_count": 7,
   "id": "aa131303",
   "metadata": {},
   "outputs": [],
   "source": [
    "!git add -A"
   ]
  },
  {
   "cell_type": "code",
   "execution_count": null,
   "id": "61b75769",
   "metadata": {},
   "outputs": [],
   "source": [
    "!git pull origin master "
   ]
  },
  {
   "cell_type": "code",
   "execution_count": null,
   "id": "18e7aece",
   "metadata": {},
   "outputs": [],
   "source": [
    "#!rm -rf *.html"
   ]
  },
  {
   "cell_type": "code",
   "execution_count": 8,
   "id": "4abc318a",
   "metadata": {},
   "outputs": [
    {
     "name": "stdout",
     "output_type": "stream",
     "text": [
      "[master 528e96d9] update wandb&gradio\r\n",
      " 10 files changed, 4063 insertions(+), 178 deletions(-)\r\n",
      " create mode 100644 \"1-2,\\345\\233\\276\\347\\211\\207\\346\\225\\260\\346\\215\\256\\345\\273\\272\\346\\250\\241\\346\\265\\201\\347\\250\\213\\350\\214\\203\\344\\276\\213.md\"\r\n",
      " create mode 100644 \"A-5,Gradio\\350\\256\\251\\344\\275\\240\\347\\232\\204\\346\\234\\272\\345\\231\\250\\345\\255\\246\\344\\271\\240\\346\\250\\241\\345\\236\\213\\346\\200\\247\\346\\204\\237\\350\\265\\267\\346\\235\\245.ipynb\"\r\n",
      " create mode 100644 \"A-6,30\\345\\210\\206\\351\\222\\237\\345\\220\\203\\346\\216\\211wandb\\345\\217\\257\\350\\247\\206\\345\\214\\226\\346\\250\\241\\345\\236\\213\\345\\210\\206\\346\\236\\220.ipynb\"\r\n",
      " create mode 100644 \"A-7,30\\345\\210\\206\\351\\222\\237\\345\\220\\203\\346\\216\\211wandb\\345\\217\\257\\350\\247\\206\\345\\214\\226\\350\\207\\252\\345\\212\\250\\350\\260\\203\\345\\217\\202.ipynb\"\r\n"
     ]
    }
   ],
   "source": [
    "!git commit -m \"update wandb&gradio\" "
   ]
  },
  {
   "cell_type": "code",
   "execution_count": 3,
   "id": "2100d676",
   "metadata": {},
   "outputs": [],
   "source": [
    "!rm -rf __pycache__ "
   ]
  },
  {
   "cell_type": "code",
   "execution_count": 6,
   "id": "bb32a260",
   "metadata": {},
   "outputs": [],
   "source": [
    "!git reset --soft  f44a80331b600abf80836e4a18374184e7e424b5"
   ]
  },
  {
   "cell_type": "code",
   "execution_count": 4,
   "id": "8b16ece5",
   "metadata": {},
   "outputs": [
    {
     "name": "stdout",
     "output_type": "stream",
     "text": [
      "\u001b[33mcommit c8999f3ccf14ca193bb60e8c26a6b914d8579547\u001b[m\u001b[33m (\u001b[m\u001b[1;36mHEAD -> \u001b[m\u001b[1;32mmaster\u001b[m\u001b[33m)\u001b[m\r\n",
      "Author: lyhue1991 <lyhue1991@163.com>\r\n",
      "Date:   Sun Apr 9 22:19:40 2023 +0800\r\n",
      "\r\n",
      "    update wandb&gradio\r\n",
      "\r\n",
      "\u001b[33mcommit f44a80331b600abf80836e4a18374184e7e424b5\u001b[m\u001b[33m (\u001b[m\u001b[1;31morigin/master\u001b[m\u001b[33m, \u001b[m\u001b[1;31mgitee/master\u001b[m\u001b[33m)\u001b[m\r\n",
      "Author: lyhue1991 <lyhue1991@163.com>\r\n",
      "Date:   Mon Jan 2 19:56:15 2023 +0800\r\n",
      "\r\n",
      "    update optuna\r\n",
      "\r\n",
      "\u001b[33mcommit ef451f068539aedd918c9977be12abe14c060e36\u001b[m\r\n",
      "Author: lyhue1991 <lyhue1991@163.com>\r\n",
      "Date:   Mon Jan 2 18:41:06 2023 +0800\r\n",
      "\r\n",
      "    update optuna\r\n",
      "\r\n",
      "\u001b[33mcommit a1329f1460f24b93b1330f7a46599b799d948807\u001b[m\r\n",
      "Author: lyhue1991 <lyhue1991@163.com>\r\n",
      "Date:   Sun Jan 1 21:11:16 2023 +0800\r\n",
      "\r\n",
      "    add optuna\r\n",
      "\r\n",
      "\u001b[33mcommit f74497072591d925d2cf358e685b2a7d2393313f\u001b[m\r\n",
      "Author: lyhue1991 <lyhue1991@163.com>\r\n",
      "Date:   Sun Jan 1 21:05:02 2023 +0800\r\n",
      "\r\n",
      "    add optuna\r\n",
      "\r\n",
      "\u001b[33mcommit d30707408813d48c544ba79d8a0855b8f6117649\u001b[m\r\n",
      "Author: lyhue1991 <lyhue1991@163.com>\r\n",
      "Date:   Sat Dec 3 00:15:36 2022 +0800\r\n",
      "\r\n",
      "    add mac_m1\r\n",
      "\r\n",
      "\u001b[33mcommit 376d4e5c7c2421c442c24f9399d303a9c7fc7ccc\u001b[m\r\n",
      "Author: lyhue1991 <lyhue1991@163.com>\r\n",
      "Date:   Sat Dec 3 00:14:02 2022 +0800\r\n",
      "\r\n",
      "    add mac_m1\r\n",
      "\r\n",
      "\u001b[33mcommit 96df9855e5f261dd3decd54c71de308e19429fbb\u001b[m\r\n",
      "Author: lyhue1991 <lyhue1991@163.com>\r\n",
      "Date:   Wed Sep 21 09:07:10 2022 +0800\r\n",
      "\r\n",
      "    revise readme\r\n",
      "\r\n",
      "\u001b[33mcommit cc9567e0683727d4ae795bd5c0eafc0f2095b3a2\u001b[m\r\n",
      "Author: lyhue1991 <lyhue1991@163.com>\r\n",
      "Date:   Wed Sep 21 09:06:44 2022 +0800\r\n",
      "\r\n",
      "    revise readme\r\n",
      "\r\n",
      "\u001b[33mcommit aa7bf0b3b881c96999396cbbe3b9410c0c0376de\u001b[m\r\n",
      "Author: lyhue1991 <lyhue1991@163.com>\r\n",
      "Date:   Sun Sep 11 16:45:02 2022 +0800\r\n",
      "\r\n",
      "    revise readme\r\n",
      "\r\n",
      "\u001b[33mcommit 1ab67972fb176360daf2dec79e039805f0197bcf\u001b[m\r\n",
      "Author: lyhue1991 <lyhue1991@163.com>\r\n",
      "Date:   Sun Sep 11 11:40:01 2022 +0800\r\n",
      "\r\n",
      "    add appendix\r\n",
      "\r\n",
      "\u001b[33mcommit d10179d04ffbca85703fa02995c1d9a75d7f1fe9\u001b[m\r\n",
      "Author: lyhue1991 <lyhue1991@163.com>\r\n",
      "Date:   Sun Sep 4 11:06:55 2022 +0800\r\n",
      "\r\n",
      "    revise 5-4\r\n",
      "\r\n",
      "\u001b[33mcommit 359b81471669747bb7a25fa5e23462f4dc98d607\u001b[m\r\n",
      "Author: lyhue1991 <lyhue1991@163.com>\r\n",
      "Date:   Wed Aug 31 14:57:01 2022 +0800\r\n",
      "\r\n",
      "    revise 5-3\r\n",
      "\r\n",
      "\u001b[33mcommit a7b96e1689273bee6fc53122859b31af91debcc9\u001b[m\r\n",
      "Author: lyhue1991 <lyhue1991@163.com>\r\n",
      "Date:   Tue Aug 30 21:08:43 2022 +0800\r\n",
      "\r\n",
      "    revise 5-2\r\n",
      "\r\n",
      "\u001b[33mcommit 3c27fb92f3fa07d9475931eebd9f3dd3326b0a25\u001b[m\r\n",
      "Author: lyhue1991 <lyhue1991@163.com>\r\n",
      "Date:   Sat Aug 27 12:12:29 2022 +0800\r\n",
      "\r\n",
      "    revise 5-1\r\n",
      "\r\n",
      "\u001b[33mcommit e533443c44419ff5277d69dca7e488131d92528d\u001b[m\r\n",
      "Author: lyhue1991 <lyhue1991@163.com>\r\n",
      "Date:   Wed Aug 24 11:38:19 2022 +0800\r\n",
      "\r\n",
      "    revise readme\r\n",
      "\r\n",
      "\u001b[33mcommit 936b18f9ea601db3d309dcd8ae2b09a2e4cdbaa0\u001b[m\r\n",
      "Author: lyhue1991 <lyhue1991@163.com>\r\n",
      "Date:   Fri Aug 12 13:02:15 2022 +0800\r\n",
      "\r\n",
      "    Delete 6-1,构建模型的3种方法.md\r\n",
      "\r\n",
      "\u001b[33mcommit 6a27304759ba0791ee32b252fb86a799ad161cd2\u001b[m\r\n",
      "Author: lyhue1991 <lyhue1991@163.com>\r\n",
      "Date:   Fri Aug 12 13:01:43 2022 +0800\r\n",
      "\r\n",
      "    Delete 1-2,图片数据建模流程范例.md\r\n",
      "\r\n",
      "\u001b[33mcommit 310a0c5b049d099fb4703240c4c8b45855efb294\u001b[m\r\n",
      "Author: lyhue1991 <lyhue1991@163.com>\r\n",
      "Date:   Fri Aug 12 13:00:54 2022 +0800\r\n",
      "\r\n",
      "    revise readme\r\n",
      "\r\n",
      "\u001b[33mcommit 4db33ae0af7135e2f93977f53369ec8ea5beaa32\u001b[m\r\n",
      "Author: lyhue1991 <lyhue1991@163.com>\r\n",
      "Date:   Fri Aug 12 09:10:17 2022 +0800\r\n",
      "\r\n",
      "    revise readme\r\n",
      "\r\n",
      "\u001b[33mcommit 4560f9acff8465d8119ea2b711d144c119b4d635\u001b[m\r\n",
      "Author: lyhue1991 <lyhue1991@163.com>\r\n",
      "Date:   Thu Aug 11 22:03:45 2022 +0800\r\n",
      "\r\n",
      "    revise readme\r\n",
      "\r\n",
      "\u001b[33mcommit 9fe551e9327262798d152d1cd8c5b96181b28dd8\u001b[m\r\n",
      "Author: lyhue1991 <lyhue1991@163.com>\r\n",
      "Date:   Thu Aug 11 21:58:38 2022 +0800\r\n",
      "\r\n",
      "    revise readme\r\n",
      "\r\n",
      "\u001b[33mcommit 6291dd3acc8f60e035f251100860edd8aec76d72\u001b[m\r\n",
      "Author: lyhue1991 <lyhue1991@163.com>\r\n",
      "Date:   Thu Aug 11 21:47:19 2022 +0800\r\n",
      "\r\n",
      "    revise readme\r\n",
      "\r\n",
      "\u001b[33mcommit 21856a78b4c3306f0f1d907b3971559771c0a38b\u001b[m\r\n",
      "Author: lyhue1991 <lyhue1991@163.com>\r\n",
      "Date:   Thu Aug 11 21:26:45 2022 +0800\r\n",
      "\r\n",
      "    add chapter-7\r\n",
      "\r\n",
      "\u001b[33mcommit 001f26103178303351ed087101fa99c450c8c1a1\u001b[m\r\n",
      "Author: lyhue1991 <lyhue1991@163.com>\r\n",
      "Date:   Thu Aug 11 21:23:24 2022 +0800\r\n",
      "\r\n",
      "    add chapter-7\r\n",
      "\r\n",
      "\u001b[33mcommit 9c3c0b1f27b5b56c5879f7ab739089887d756a6c\u001b[m\r\n",
      "Merge: 24c5a6a8 0bd2412b\r\n",
      "Author: lyhue1991 <lyhue1991@163.com>\r\n",
      "Date:   Sat Nov 20 08:12:40 2021 +0800\r\n",
      "\r\n",
      "    Merge pull request #29 from vasudev-sharma/patch-1\r\n",
      "    \r\n",
      "    Add collate function in the `__init__` constructor of DataLoader\r\n",
      "\r\n",
      "\u001b[33mcommit 0bd2412b7d190b661f34610b3c97bf272dd10d94\u001b[m\r\n",
      "Author: Vasudev Sharma <sharmavasudev1998@gmail.com>\r\n",
      "Date:   Sat Aug 14 09:51:19 2021 +0530\r\n",
      "\r\n",
      "    Add collate function in the constructor\r\n",
      "\r\n",
      "\u001b[33mcommit 24c5a6a860f40efb3c6b907f3819bf902edf917a\u001b[m\r\n",
      "Merge: e26d8c60 ac0807ec\r\n",
      "Author: lyhue1991 <lyhue1991@163.com>\r\n",
      "Date:   Sun Jul 4 11:28:15 2021 +0800\r\n",
      "\r\n",
      "    pull\r\n",
      "\r\n",
      "\u001b[33mcommit e26d8c60e5b9b3fea0e093ef9cad234453475ba9\u001b[m\r\n",
      "Author: lyhue1991 <lyhue1991@163.com>\r\n",
      "Date:   Sun Jul 4 11:04:53 2021 +0800\r\n",
      "\r\n",
      "    add houji\r\n",
      "\r\n",
      "\u001b[33mcommit 88b521f91c087a31678ddaf21dbc1a1f8e8f4306\u001b[m\r\n",
      "Author: lyhue1991 <lyhue1991@163.com>\r\n",
      "Date:   Sun Jul 4 11:00:06 2021 +0800\r\n",
      "\r\n",
      "    add houji\r\n",
      "\r\n",
      "\u001b[33mcommit ac0807ecc57495db80314bde4aad2f5b02e41463\u001b[m\r\n",
      "Author: lyhue1991 <lyhue1991@163.com>\r\n",
      "Date:   Thu May 27 07:20:40 2021 +0800\r\n",
      "\r\n",
      "    Update README.md\r\n",
      "\r\n",
      "\u001b[33mcommit 3e28c2f13bc2914d5badd65eeabf632933418b62\u001b[m\r\n",
      "Author: lyhue1991 <lyhue1991@163.com>\r\n",
      "Date:   Sun Jan 17 10:43:19 2021 +0800\r\n",
      "\r\n",
      "    add torchkeras.LightModel\r\n",
      "\r\n",
      "\u001b[33mcommit fc1700a7da19e40fd9a6601bdcdb6462c30408d0\u001b[m\r\n",
      "Author: lyhue1991 <lyhue1991@163.com>\r\n",
      "Date:   Sun Jan 17 10:41:39 2021 +0800\r\n",
      "\r\n",
      "    add torchkeras.LightModel\r\n",
      "\r\n",
      "\u001b[33mcommit 1535621c79ea82ca7a67078f9816bcf51dbda24e\u001b[m\r\n",
      "Author: lyhue1991 <lyhue1991@163.com>\r\n",
      "Date:   Sun Dec 27 12:55:59 2020 +0800\r\n",
      "\r\n",
      "    revise some chapters\r\n",
      "\r\n",
      "\u001b[33mcommit 011450c5f7d9340bf28aff65d797f7246ee47bfb\u001b[m\r\n",
      "Author: lyhue1991 <lyhue1991@163.com>\r\n",
      "Date:   Sun Dec 27 12:10:52 2020 +0800\r\n",
      "\r\n",
      "    revise some chapters\r\n",
      "\r\n",
      "\u001b[33mcommit 35c253121941775bb51f91680291b8f6eed55e6a\u001b[m\r\n",
      "Author: lyhue1991 <lyhue1991@163.com>\r\n",
      "Date:   Wed Aug 12 22:19:02 2020 +0800\r\n",
      "\r\n",
      "    revise readme\r\n",
      "\r\n",
      "\u001b[33mcommit e2447704d1204cf07d4532eb8f61b097924512d6\u001b[m\r\n",
      "Author: lyhue1991 <lyhue1991@163.com>\r\n",
      "Date:   Mon Aug 10 19:01:54 2020 +0800\r\n",
      "\r\n",
      "    Update 2-1,张量数据结构.md\r\n",
      "\r\n",
      "\u001b[33mcommit 077429a424a72c4ae50ac7e95c8ec99df5402924\u001b[m\r\n",
      "Author: lyhue1991 <lyhue1991@163.com>\r\n",
      "Date:   Thu Jul 16 23:21:39 2020 +0800\r\n",
      "\r\n",
      "    revise 6-2\r\n",
      "\r\n",
      "\u001b[33mcommit 2874e831de657331ea24b6cc70bb4208bb47c39c\u001b[m\r\n",
      "Author: lyhue1991 <lyhue1991@163.com>\r\n",
      "Date:   Thu Jul 16 22:56:00 2020 +0800\r\n",
      "\r\n",
      "    revise 6-3\r\n",
      "\r\n",
      "\u001b[33mcommit 089de68149fce03cb93dfc17ef9f52ad7f7cbe3c\u001b[m\r\n",
      "Merge: 461aa980 c5eb31e3\r\n",
      "Author: lyhue1991 <lyhue1991@163.com>\r\n",
      "Date:   Thu Jul 16 22:41:29 2020 +0800\r\n",
      "\r\n",
      "    Merge pull request #3 from JunnYu/master\r\n",
      "    \r\n",
      "    add \"with torch.no_grad()\"\r\n",
      "\r\n",
      "\u001b[33mcommit 461aa98070391a0a1e81124a62807ce25461bbf8\u001b[m\r\n",
      "Author: lyhue1991 <lyhue1991@163.com>\r\n",
      "Date:   Wed Jul 15 22:49:54 2020 +0800\r\n",
      "\r\n",
      "    add 6-3\r\n",
      "\r\n",
      "\u001b[33mcommit f7689346b4ea772c87362045588d763073e0138d\u001b[m\r\n",
      "Author: lyhue1991 <lyhue1991@163.com>\r\n",
      "Date:   Sat Jul 11 23:40:39 2020 +0800\r\n",
      "\r\n",
      "    add 5-4\r\n",
      "\r\n",
      "\u001b[33mcommit 2f6919ef0650e63cf414fceca3b71c575e4292e9\u001b[m\r\n",
      "Author: lyhue1991 <lyhue1991@163.com>\r\n",
      "Date:   Wed Jul 8 22:57:24 2020 +0800\r\n",
      "\r\n",
      "    add 4-3\r\n",
      "\r\n",
      "\u001b[33mcommit 025e1fc115f214de239f6f264b73c2b81528f43a\u001b[m\r\n",
      "Author: lyhue1991 <lyhue1991@163.com>\r\n",
      "Date:   Sun Jul 5 23:19:09 2020 +0800\r\n",
      "\r\n",
      "    add 3-1\r\n",
      "\r\n",
      "\u001b[33mcommit c5eb31e327aa32cf9e5acd4ef7e88bee25c170a6\u001b[m\r\n",
      "Author: yujun <50394665+JunnYu@users.noreply.github.com>\r\n",
      "Date:   Sun Jul 5 18:28:10 2020 +0800\r\n",
      "\r\n",
      "    Update 1-2,图片数据建模流程范例.md\r\n",
      "\r\n",
      "\u001b[33mcommit 6c6824e3fdc3935eb73d2c11a0167bcc91d85ae8\u001b[m\r\n",
      "Author: yujun <50394665+JunnYu@users.noreply.github.com>\r\n",
      "Date:   Sun Jul 5 18:19:01 2020 +0800\r\n",
      "\r\n",
      "    Update 1-2,图片数据建模流程范例.md\r\n",
      "    \r\n",
      "    添加with torch.no_grad():\r\n",
      "\r\n",
      "\u001b[33mcommit 073f9a7a061a6b6625f967bf0eef1518153de08b\u001b[m\r\n",
      "Author: yujun <50394665+JunnYu@users.noreply.github.com>\r\n",
      "Date:   Sun Jul 5 18:17:10 2020 +0800\r\n",
      "\r\n",
      "    Update 1-1,结构化数据建模流程范例.md\r\n",
      "    \r\n",
      "    val/test阶段，添加with torch.no_grad()，关闭梯度计算。\r\n",
      "\r\n",
      "\u001b[33mcommit 027aab759ab774cf4360723e5aa4e3cc4b67c72d\u001b[m\r\n",
      "Author: lyhue1991 <lyhue1991@163.com>\r\n",
      "Date:   Fri Jul 3 23:11:33 2020 +0800\r\n",
      "\r\n",
      "    add 2-2\r\n",
      "\r\n",
      "\u001b[33mcommit b771f452429f673c9e63a6005eb81e8298e62383\u001b[m\r\n",
      "Author: lyhue1991 <lyhue1991@163.com>\r\n",
      "Date:   Thu Jul 2 22:47:35 2020 +0800\r\n",
      "\r\n",
      "    add 2-1\r\n",
      "\r\n",
      "\u001b[33mcommit a74f366b7cdcef4dd4b58f87c7092bb371c12e4e\u001b[m\r\n",
      "Author: lyhue1991 <lyhue1991@163.com>\r\n",
      "Date:   Wed Jul 1 22:15:10 2020 +0800\r\n",
      "\r\n",
      "    add 1-4\r\n",
      "\r\n",
      "\u001b[33mcommit 3d7472906c0585a46534b9173af2b88c323778fc\u001b[m\r\n",
      "Author: lyhue1991 <lyhue1991@163.com>\r\n",
      "Date:   Wed Jul 1 22:13:55 2020 +0800\r\n",
      "\r\n",
      "    add 1-4\r\n",
      "\r\n",
      "\u001b[33mcommit 4cf67d5f6bf69867bbb4ede2ebe881a9421b08e9\u001b[m\r\n",
      "Author: lyhue1991 <lyhue1991@163.com>\r\n",
      "Date:   Tue Jun 30 22:47:21 2020 +0800\r\n",
      "\r\n",
      "    revise readme\r\n",
      "\r\n",
      "\u001b[33mcommit ef0ed454ee1d1aba5d83bbd16a080756d86f4958\u001b[m\r\n",
      "Author: lyhue1991 <lyhue1991@163.com>\r\n",
      "Date:   Mon Jun 29 22:56:33 2020 +0800\r\n",
      "\r\n",
      "    revise readme\r\n",
      "\r\n",
      "\u001b[33mcommit a3c52bfc6961dbd90ae423d5b74a12f3298fa4dc\u001b[m\r\n",
      "Author: lyhue1991 <lyhue1991@163.com>\r\n",
      "Date:   Sun Jun 28 20:38:39 2020 +0800\r\n",
      "\r\n",
      "    revise readme\r\n",
      "\r\n",
      "\u001b[33mcommit c10261b439f926607cf58f335e8e2ffba579c9bd\u001b[m\r\n",
      "Author: lyhue1991 <lyhue1991@163.com>\r\n",
      "Date:   Sat Jun 27 19:53:38 2020 +0800\r\n",
      "\r\n",
      "    revise readme\r\n",
      "\r\n",
      "\u001b[33mcommit 64bbdff975085962c3a44e2972202c52bcf2add0\u001b[m\r\n",
      "Author: lyhue1991 <lyhue1991@163.com>\r\n",
      "Date:   Sat Jun 27 19:25:55 2020 +0800\r\n",
      "\r\n",
      "    Delete ~$Pytorch教程封面.pptx\r\n",
      "\r\n",
      "\u001b[33mcommit 9c1399361b68a202cb622e50de5f95496b5d9cdc\u001b[m\r\n",
      "Author: lyhue1991 <lyhue1991@163.com>\r\n",
      "Date:   Sat Jun 27 19:24:48 2020 +0800\r\n",
      "\r\n",
      "    revise readme\r\n",
      "\r\n",
      "\u001b[33mcommit 867e2f3d8ca8bba2e61c047e353d2c8652b2d20f\u001b[m\r\n",
      "Merge: ec5c9a2f d5d43930\r\n",
      "Author: lyhue1991 <lyhue1991@163.com>\r\n",
      "Date:   Sat Jun 27 19:23:23 2020 +0800\r\n",
      "\r\n",
      "    Merge branch 'master' of https://github.com/lyhue1991/eat_pytorch_in_20_days\r\n",
      "\r\n",
      "\u001b[33mcommit ec5c9a2f003069a087db16d985f8bf016ded9f37\u001b[m\r\n",
      "Author: lyhue1991 <lyhue1991@163.com>\r\n",
      "Date:   Sat Jun 27 19:23:00 2020 +0800\r\n",
      "\r\n",
      "    revise readme\r\n",
      "\r\n",
      "\u001b[33mcommit 4c7fdc9a4b6a97b564dcdc3178a53de60480d15b\u001b[m\r\n",
      "Author: lyhue1991 <lyhue1991@163.com>\r\n",
      "Date:   Sat Jun 27 19:21:55 2020 +0800\r\n",
      "\r\n",
      "    revise readme\r\n",
      "\r\n",
      "\u001b[33mcommit d5d43930ec5e27746fc4920918f8989e28593679\u001b[m\r\n",
      "Author: lyhue1991 <lyhue1991@163.com>\r\n",
      "Date:   Sat Jun 27 19:16:03 2020 +0800\r\n",
      "\r\n",
      "    Update FUNDING.yml\r\n",
      "\r\n",
      "\u001b[33mcommit 31e1a1c693e6e7ead522f47f84b9849e002e73a1\u001b[m\r\n",
      "Author: lyhue1991 <lyhue1991@163.com>\r\n",
      "Date:   Sat Jun 27 19:08:27 2020 +0800\r\n",
      "\r\n",
      "    Update FUNDING.yml\r\n",
      "\r\n",
      "\u001b[33mcommit 94521163d9d63292a522a6d2938d0cf48bda473a\u001b[m\r\n",
      "Author: lyhue1991 <lyhue1991@163.com>\r\n",
      "Date:   Sat Jun 27 19:05:42 2020 +0800\r\n",
      "\r\n",
      "    Update FUNDING.yml\r\n",
      "\r\n",
      "\u001b[33mcommit 5ea50d32369c2a7998e66cf13364b59fee3f9177\u001b[m\r\n",
      "Author: lyhue1991 <lyhue1991@163.com>\r\n",
      "Date:   Sat Jun 27 19:03:30 2020 +0800\r\n",
      "\r\n",
      "    Update FUNDING.yml\r\n",
      "\r\n",
      "\u001b[33mcommit 03eecb32d2aadf607db30fc18eb2581d9b383831\u001b[m\r\n",
      "Author: lyhue1991 <lyhue1991@163.com>\r\n",
      "Date:   Sat Jun 27 19:01:36 2020 +0800\r\n",
      "\r\n",
      "    Create FUNDING.yml\r\n",
      "\r\n",
      "\u001b[33mcommit 2cef275d4cb95047e54fbb806e0b270e2c401cfc\u001b[m\r\n",
      "Author: lyhue1991 <lyhue1991@163.com>\r\n",
      "Date:   Sat Jun 27 19:00:23 2020 +0800\r\n",
      "\r\n",
      "    add Sponsor.md\r\n",
      "\r\n",
      "\u001b[33mcommit 00296e19da1ec59c907213b14818875006cea1cd\u001b[m\r\n",
      "Author: lyhue1991 <lyhue1991@163.com>\r\n",
      "Date:   Sat Jun 27 18:32:55 2020 +0800\r\n",
      "\r\n",
      "    add LICENSE\r\n",
      "\r\n",
      "\u001b[33mcommit 64ce6fcda5db16b9c24fed82597d80feed0f5701\u001b[m\r\n",
      "Author: lyhue1991 <lyhue1991@163.com>\r\n",
      "Date:   Sat Jun 27 18:10:50 2020 +0800\r\n",
      "\r\n",
      "    add 1-1\r\n",
      "\r\n",
      "\u001b[33mcommit 7fe51cf174842345f5fc25141905a4e3ad6c3ef0\u001b[m\r\n",
      "Author: lyhue1991 <lyhue1991@163.com>\r\n",
      "Date:   Sat Jun 27 18:05:12 2020 +0800\r\n",
      "\r\n",
      "    add 1-1\r\n",
      "\r\n",
      "\u001b[33mcommit 7649884a530b866abbfd30cab230864a5630e835\u001b[m\r\n",
      "Author: lyhue1991 <lyhue1991@163.com>\r\n",
      "Date:   Sat Jun 27 18:03:11 2020 +0800\r\n",
      "\r\n",
      "    add 1-1\r\n"
     ]
    }
   ],
   "source": [
    "!git log "
   ]
  },
  {
   "cell_type": "code",
   "execution_count": 11,
   "id": "33a96283",
   "metadata": {},
   "outputs": [],
   "source": [
    "!git remote add origin git@github.com:lyhue1991/eat_pytorch_in_20_days.git"
   ]
  },
  {
   "cell_type": "code",
   "execution_count": 10,
   "id": "e123d99b",
   "metadata": {},
   "outputs": [],
   "source": [
    "!git remote remove origin "
   ]
  },
  {
   "cell_type": "code",
   "execution_count": 12,
   "id": "60bb0e8d",
   "metadata": {},
   "outputs": [
    {
     "name": "stdout",
     "output_type": "stream",
     "text": [
      "Enumerating objects: 10, done.\n",
      "Counting objects: 100% (10/10), done.\n",
      "Delta compression using up to 8 threads\n",
      "Compressing objects: 100% (6/6), done.\n",
      "Writing objects: 100% (6/6), 30.40 KiB | 6.08 MiB/s, done.\n",
      "Total 6 (delta 4), reused 0 (delta 0), pack-reused 0\n",
      "remote: Resolving deltas: 100% (4/4), completed with 4 local objects.\u001b[K\n",
      "To github.com:lyhue1991/eat_pytorch_in_20_days.git\n",
      "   ef451f06..f44a8033  master -> master\n"
     ]
    }
   ],
   "source": [
    "!git push origin master "
   ]
  },
  {
   "cell_type": "code",
   "execution_count": null,
   "id": "bc00e253",
   "metadata": {},
   "outputs": [],
   "source": [
    "!ssh -T git@github.com:lyhue1991/eat_pytorch_in_20_days.git"
   ]
  },
  {
   "cell_type": "code",
   "execution_count": null,
   "id": "53ad6321",
   "metadata": {},
   "outputs": [],
   "source": [
    "!git remote rm gitee "
   ]
  },
  {
   "cell_type": "code",
   "execution_count": 6,
   "id": "d5ef1678",
   "metadata": {},
   "outputs": [],
   "source": [
    "!git remote add gitee https://gitee.com/Python_Ai_Road/eat_pytorch_in_20_days"
   ]
  },
  {
   "cell_type": "code",
   "execution_count": 7,
   "id": "a95d42b7",
   "metadata": {},
   "outputs": [
    {
     "name": "stdout",
     "output_type": "stream",
     "text": [
      "Enumerating objects: 10, done.\n",
      "Counting objects: 100% (10/10), done.\n",
      "Delta compression using up to 8 threads\n",
      "Compressing objects: 100% (6/6), done.\n",
      "Writing objects: 100% (6/6), 30.40 KiB | 15.20 MiB/s, done.\n",
      "Total 6 (delta 4), reused 0 (delta 0), pack-reused 0\n",
      "remote: Powered by \u001b[01;33mGITEE.COM \u001b[0m[\u001b[01;35mGNK-6.4\u001b[0m]\u001b[0m\u001b[K\n",
      "To https://gitee.com/Python_Ai_Road/eat_pytorch_in_20_days\n",
      "   ef451f06..f44a8033  master -> master\n"
     ]
    }
   ],
   "source": [
    "!git push  gitee master "
   ]
  },
  {
   "cell_type": "markdown",
   "id": "54e87f74",
   "metadata": {},
   "source": [
    "## 创建pages分支"
   ]
  },
  {
   "cell_type": "code",
   "execution_count": null,
   "id": "e7f08287",
   "metadata": {},
   "outputs": [],
   "source": [
    "!git checkout -b gh-pages"
   ]
  },
  {
   "cell_type": "code",
   "execution_count": null,
   "id": "5ae54a4b",
   "metadata": {},
   "outputs": [],
   "source": [
    "!git rm --cached -r *.md"
   ]
  },
  {
   "cell_type": "code",
   "execution_count": null,
   "id": "59ff5563",
   "metadata": {},
   "outputs": [],
   "source": [
    "!git clean -df\n",
    "!rm -rf *.md"
   ]
  },
  {
   "cell_type": "code",
   "execution_count": null,
   "id": "2c931586",
   "metadata": {},
   "outputs": [],
   "source": [
    "!cp -r _book/* ."
   ]
  },
  {
   "cell_type": "code",
   "execution_count": null,
   "id": "b3f9fd6c",
   "metadata": {},
   "outputs": [],
   "source": [
    "!git add ."
   ]
  },
  {
   "cell_type": "code",
   "execution_count": null,
   "id": "be150ae8",
   "metadata": {},
   "outputs": [],
   "source": [
    "!git reset"
   ]
  },
  {
   "cell_type": "code",
   "execution_count": null,
   "id": "e154b99d",
   "metadata": {},
   "outputs": [],
   "source": [
    "!git pull origin gh-pages"
   ]
  },
  {
   "cell_type": "code",
   "execution_count": null,
   "id": "53f955a1",
   "metadata": {},
   "outputs": [],
   "source": [
    "!git commit -m 'add gh-pages'"
   ]
  },
  {
   "cell_type": "code",
   "execution_count": null,
   "id": "c3b3ad6d",
   "metadata": {},
   "outputs": [],
   "source": [
    "!git push -u origin gh-pages"
   ]
  },
  {
   "cell_type": "code",
   "execution_count": null,
   "id": "d62cf830",
   "metadata": {},
   "outputs": [],
   "source": [
    "!git checkout pages"
   ]
  },
  {
   "cell_type": "code",
   "execution_count": null,
   "id": "3a9ecb74",
   "metadata": {},
   "outputs": [],
   "source": []
  },
  {
   "cell_type": "code",
   "execution_count": null,
   "id": "f5b83762",
   "metadata": {},
   "outputs": [],
   "source": []
  },
  {
   "cell_type": "code",
   "execution_count": null,
   "id": "1ffd9079",
   "metadata": {},
   "outputs": [],
   "source": []
  },
  {
   "cell_type": "markdown",
   "id": "f36dbd94",
   "metadata": {},
   "source": [
    "## 更新命令"
   ]
  },
  {
   "cell_type": "code",
   "execution_count": null,
   "id": "a51a2599",
   "metadata": {},
   "outputs": [],
   "source": [
    "!git checkout master"
   ]
  },
  {
   "cell_type": "code",
   "execution_count": null,
   "id": "e927df0e",
   "metadata": {},
   "outputs": [],
   "source": [
    "!git add ./data/*  *.md *.py"
   ]
  },
  {
   "cell_type": "code",
   "execution_count": null,
   "id": "c58df61b",
   "metadata": {},
   "outputs": [],
   "source": [
    "!git commit -m \"revise readme\""
   ]
  },
  {
   "cell_type": "code",
   "execution_count": null,
   "id": "9161b444",
   "metadata": {},
   "outputs": [],
   "source": [
    "!git push -u origin master"
   ]
  },
  {
   "cell_type": "code",
   "execution_count": null,
   "id": "8bfe64ef",
   "metadata": {},
   "outputs": [],
   "source": [
    "!gitbook build"
   ]
  },
  {
   "cell_type": "code",
   "execution_count": null,
   "id": "9cd493c3",
   "metadata": {},
   "outputs": [],
   "source": [
    "!git branch -D gh-pages "
   ]
  },
  {
   "cell_type": "code",
   "execution_count": null,
   "id": "0c16c162",
   "metadata": {},
   "outputs": [],
   "source": [
    "!git checkout -b gh-pages"
   ]
  },
  {
   "cell_type": "code",
   "execution_count": null,
   "id": "e85dce6e",
   "metadata": {},
   "outputs": [],
   "source": [
    "!git rm --cached -r *.md"
   ]
  },
  {
   "cell_type": "code",
   "execution_count": null,
   "id": "e1d20017",
   "metadata": {},
   "outputs": [],
   "source": [
    "!git clean -df"
   ]
  },
  {
   "cell_type": "code",
   "execution_count": null,
   "id": "d9fc8613",
   "metadata": {},
   "outputs": [],
   "source": [
    "!rm -rf *.md"
   ]
  },
  {
   "cell_type": "code",
   "execution_count": null,
   "id": "8973a899",
   "metadata": {},
   "outputs": [],
   "source": [
    "!cp -r _book/* ."
   ]
  },
  {
   "cell_type": "code",
   "execution_count": null,
   "id": "b96c2f15",
   "metadata": {},
   "outputs": [],
   "source": [
    "!git add .\n",
    "!git commit -m \"add postscript\""
   ]
  },
  {
   "cell_type": "code",
   "execution_count": null,
   "id": "0e6ce145",
   "metadata": {},
   "outputs": [],
   "source": [
    "!git push -f origin gh-pages"
   ]
  },
  {
   "cell_type": "code",
   "execution_count": null,
   "id": "2efa3175",
   "metadata": {},
   "outputs": [],
   "source": [
    "!git checkout master"
   ]
  }
 ],
 "metadata": {
  "jupytext": {
   "cell_metadata_filter": "-all",
   "encoding": "# -*- coding: utf-8 -*-",
   "notebook_metadata_filter": "-all"
  },
  "kernelspec": {
   "display_name": "Python 3 (ipykernel)",
   "language": "python",
   "name": "python3"
  },
  "language_info": {
   "codemirror_mode": {
    "name": "ipython",
    "version": 3
   },
   "file_extension": ".py",
   "mimetype": "text/x-python",
   "name": "python",
   "nbconvert_exporter": "python",
   "pygments_lexer": "ipython3",
   "version": "3.9.0"
  }
 },
 "nbformat": 4,
 "nbformat_minor": 5
}
