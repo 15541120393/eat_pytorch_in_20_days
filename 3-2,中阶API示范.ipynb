{
 "cells": [
  {
   "cell_type": "markdown",
   "id": "8bd2578c",
   "metadata": {},
   "source": [
    "# 3-2,中阶API示范\n",
    "\n",
    "下面的范例使用Pytorch的中阶API实现线性回归模型和和DNN二分类模型。\n",
    "\n",
    "Pytorch的中阶API主要包括各种模型层，损失函数，优化器，数据管道等等。"
   ]
  },
  {
   "cell_type": "code",
   "execution_count": null,
   "id": "f2e6ae11",
   "metadata": {},
   "outputs": [],
   "source": [
    "import os\n",
    "import datetime\n",
    "\n",
    "#打印时间\n",
    "def printbar():\n",
    "    nowtime = datetime.datetime.now().strftime('%Y-%m-%d %H:%M:%S')\n",
    "    print(\"\\n\"+\"==========\"*8 + \"%s\"%nowtime)\n",
    "\n",
    "#mac系统上pytorch和matplotlib在jupyter中同时跑需要更改环境变量\n",
    "os.environ[\"KMP_DUPLICATE_LIB_OK\"]=\"TRUE\" \n"
   ]
  },
  {
   "cell_type": "code",
   "execution_count": null,
   "id": "95872f92",
   "metadata": {},
   "outputs": [],
   "source": [
    "import torch \n",
    "print(\"torch.__version__=\"+torch.__version__) "
   ]
  },
  {
   "cell_type": "markdown",
   "id": "f2c6f218",
   "metadata": {},
   "source": [
    "```\n",
    "torch.__version__=1.10.0\n",
    "```"
   ]
  },
  {
   "cell_type": "code",
   "execution_count": null,
   "id": "6e2521f2",
   "metadata": {},
   "outputs": [],
   "source": []
  },
  {
   "cell_type": "markdown",
   "id": "c703f7e1",
   "metadata": {},
   "source": [
    "### 一，线性回归模型"
   ]
  },
  {
   "cell_type": "markdown",
   "id": "a72e5f7c",
   "metadata": {},
   "source": [
    "**1，准备数据**"
   ]
  },
  {
   "cell_type": "code",
   "execution_count": null,
   "id": "a19c99d1",
   "metadata": {},
   "outputs": [],
   "source": [
    "import numpy as np \n",
    "import pandas as pd\n",
    "from matplotlib import pyplot as plt \n",
    "import torch\n",
    "from torch import nn\n",
    "import torch.nn.functional as F\n",
    "from torch.utils.data import Dataset,DataLoader,TensorDataset\n",
    "\n",
    "#样本数量\n",
    "n = 400\n",
    "\n",
    "# 生成测试用数据集\n",
    "X = 10*torch.rand([n,2])-5.0  #torch.rand是均匀分布 \n",
    "w0 = torch.tensor([[2.0],[-3.0]])\n",
    "b0 = torch.tensor([[10.0]])\n",
    "Y = X@w0 + b0 + torch.normal( 0.0,2.0,size = [n,1])  # @表示矩阵乘法,增加正态扰动\n"
   ]
  },
  {
   "cell_type": "code",
   "execution_count": null,
   "id": "a1c16fc3",
   "metadata": {},
   "outputs": [],
   "source": [
    "# 数据可视化\n",
    "\n",
    "%matplotlib inline\n",
    "%config InlineBackend.figure_format = 'svg'\n",
    "\n",
    "plt.figure(figsize = (12,5))\n",
    "ax1 = plt.subplot(121)\n",
    "ax1.scatter(X[:,0],Y[:,0], c = \"b\",label = \"samples\")\n",
    "ax1.legend()\n",
    "plt.xlabel(\"x1\")\n",
    "plt.ylabel(\"y\",rotation = 0)\n",
    "\n",
    "ax2 = plt.subplot(122)\n",
    "ax2.scatter(X[:,1],Y[:,0], c = \"g\",label = \"samples\")\n",
    "ax2.legend()\n",
    "plt.xlabel(\"x2\")\n",
    "plt.ylabel(\"y\",rotation = 0)\n",
    "plt.show()\n"
   ]
  },
  {
   "cell_type": "markdown",
   "id": "0cd9bb40",
   "metadata": {},
   "source": [
    "![](./data/3-2-线性回归数据可视化.png)"
   ]
  },
  {
   "cell_type": "code",
   "execution_count": null,
   "id": "d479e06e",
   "metadata": {},
   "outputs": [],
   "source": [
    "#构建输入数据管道\n",
    "ds = TensorDataset(X,Y)\n",
    "dl = DataLoader(ds,batch_size = 10,shuffle=True,num_workers=2)\n"
   ]
  },
  {
   "cell_type": "code",
   "execution_count": null,
   "id": "57750fe9",
   "metadata": {},
   "outputs": [],
   "source": []
  },
  {
   "cell_type": "markdown",
   "id": "251fb895",
   "metadata": {},
   "source": [
    "**2，定义模型**"
   ]
  },
  {
   "cell_type": "code",
   "execution_count": null,
   "id": "5917cd7d",
   "metadata": {},
   "outputs": [],
   "source": [
    "model = nn.Linear(2,1) #线性层\n",
    "\n",
    "model.loss_fn = nn.MSELoss()\n",
    "model.optimizer = torch.optim.SGD(model.parameters(),lr = 0.01)\n"
   ]
  },
  {
   "cell_type": "code",
   "execution_count": null,
   "id": "a47f3d1b",
   "metadata": {},
   "outputs": [],
   "source": []
  },
  {
   "cell_type": "markdown",
   "id": "d3872f8e",
   "metadata": {},
   "source": [
    "**3，训练模型**"
   ]
  },
  {
   "cell_type": "code",
   "execution_count": null,
   "id": "155b5c6f",
   "metadata": {},
   "outputs": [],
   "source": [
    "def train_step(model, features, labels):\n",
    "    \n",
    "    predictions = model(features)\n",
    "    loss = model.loss_fn(predictions,labels)\n",
    "    loss.backward()\n",
    "    model.optimizer.step()\n",
    "    model.optimizer.zero_grad()\n",
    "    return loss.item()\n",
    "\n",
    "# 测试train_step效果\n",
    "features,labels = next(iter(dl))\n",
    "train_step(model,features,labels)\n",
    "\n"
   ]
  },
  {
   "cell_type": "markdown",
   "id": "55a15196",
   "metadata": {},
   "source": [
    "```\n",
    "269.98016357421875\n",
    "```"
   ]
  },
  {
   "cell_type": "code",
   "execution_count": null,
   "id": "299926c5",
   "metadata": {},
   "outputs": [],
   "source": [
    "def train_model(model,epochs):\n",
    "    for epoch in range(1,epochs+1):\n",
    "        for features, labels in dl:\n",
    "            loss = train_step(model,features,labels)\n",
    "        if epoch%10==0:\n",
    "            printbar()\n",
    "            w = model.state_dict()[\"weight\"]\n",
    "            b = model.state_dict()[\"bias\"]\n",
    "            print(\"epoch =\",epoch,\"loss = \",loss)\n",
    "            print(\"w =\",w)\n",
    "            print(\"b =\",b)\n",
    "train_model(model,epochs = 50)\n"
   ]
  },
  {
   "cell_type": "markdown",
   "id": "8e0cc34d",
   "metadata": {},
   "source": [
    "```\n",
    "================================================================================2022-07-16 18:03:53\n",
    "epoch = 10 loss =  5.537785053253174\n",
    "w = tensor([[ 1.9881, -3.0584]])\n",
    "b = tensor([10.0856])\n",
    "\n",
    "================================================================================2022-07-16 18:04:13\n",
    "epoch = 20 loss =  3.881025791168213\n",
    "w = tensor([[ 1.8880, -2.9631]])\n",
    "b = tensor([10.0707])\n",
    "\n",
    "================================================================================2022-07-16 18:04:32\n",
    "epoch = 30 loss =  6.192954063415527\n",
    "w = tensor([[ 2.0208, -2.9988]])\n",
    "b = tensor([10.0903])\n",
    "\n",
    "================================================================================2022-07-16 18:04:51\n",
    "epoch = 40 loss =  5.026132106781006\n",
    "w = tensor([[ 2.0422, -2.9166]])\n",
    "b = tensor([10.1006])\n",
    "\n",
    "================================================================================2022-07-16 18:05:09\n",
    "epoch = 50 loss =  3.067345142364502\n",
    "w = tensor([[ 1.9470, -3.0395]])\n",
    "b = tensor([10.0620])\n",
    "```"
   ]
  },
  {
   "cell_type": "code",
   "execution_count": null,
   "id": "3827fd8c",
   "metadata": {},
   "outputs": [],
   "source": []
  },
  {
   "cell_type": "code",
   "execution_count": null,
   "id": "b8384a3b",
   "metadata": {},
   "outputs": [],
   "source": [
    "# 结果可视化\n",
    "\n",
    "%matplotlib inline\n",
    "%config InlineBackend.figure_format = 'svg'\n",
    "\n",
    "w,b = model.state_dict()[\"weight\"],model.state_dict()[\"bias\"]\n",
    "\n",
    "plt.figure(figsize = (12,5))\n",
    "ax1 = plt.subplot(121)\n",
    "ax1.scatter(X[:,0],Y[:,0], c = \"b\",label = \"samples\")\n",
    "ax1.plot(X[:,0],w[0,0]*X[:,0]+b[0],\"-r\",linewidth = 5.0,label = \"model\")\n",
    "ax1.legend()\n",
    "plt.xlabel(\"x1\")\n",
    "plt.ylabel(\"y\",rotation = 0)\n",
    "\n",
    "\n",
    "\n",
    "ax2 = plt.subplot(122)\n",
    "ax2.scatter(X[:,1],Y[:,0], c = \"g\",label = \"samples\")\n",
    "ax2.plot(X[:,1],w[0,1]*X[:,1]+b[0],\"-r\",linewidth = 5.0,label = \"model\")\n",
    "ax2.legend()\n",
    "plt.xlabel(\"x2\")\n",
    "plt.ylabel(\"y\",rotation = 0)\n",
    "\n",
    "plt.show()\n"
   ]
  },
  {
   "cell_type": "markdown",
   "id": "d0d177bb",
   "metadata": {},
   "source": [
    "![](./data/3-2-回归结果可视化.png)"
   ]
  },
  {
   "cell_type": "code",
   "execution_count": null,
   "id": "3ba62788",
   "metadata": {},
   "outputs": [],
   "source": []
  },
  {
   "cell_type": "markdown",
   "id": "6be03bd7",
   "metadata": {},
   "source": [
    "### 二， DNN二分类模型"
   ]
  },
  {
   "cell_type": "code",
   "execution_count": null,
   "id": "93105316",
   "metadata": {},
   "outputs": [],
   "source": []
  },
  {
   "cell_type": "markdown",
   "id": "7728a6a5",
   "metadata": {},
   "source": [
    "**1，准备数据**"
   ]
  },
  {
   "cell_type": "code",
   "execution_count": null,
   "id": "a212c295",
   "metadata": {},
   "outputs": [],
   "source": [
    "import numpy as np \n",
    "import pandas as pd \n",
    "from matplotlib import pyplot as plt\n",
    "import torch\n",
    "from torch import nn\n",
    "import torch.nn.functional as F\n",
    "from torch.utils.data import Dataset,DataLoader,TensorDataset\n",
    "%matplotlib inline\n",
    "%config InlineBackend.figure_format = 'svg'\n",
    "\n",
    "#正负样本数量\n",
    "n_positive,n_negative = 2000,2000\n",
    "\n",
    "#生成正样本, 小圆环分布\n",
    "r_p = 5.0 + torch.normal(0.0,1.0,size = [n_positive,1]) \n",
    "theta_p = 2*np.pi*torch.rand([n_positive,1])\n",
    "Xp = torch.cat([r_p*torch.cos(theta_p),r_p*torch.sin(theta_p)],axis = 1)\n",
    "Yp = torch.ones_like(r_p)\n",
    "\n",
    "#生成负样本, 大圆环分布\n",
    "r_n = 8.0 + torch.normal(0.0,1.0,size = [n_negative,1]) \n",
    "theta_n = 2*np.pi*torch.rand([n_negative,1])\n",
    "Xn = torch.cat([r_n*torch.cos(theta_n),r_n*torch.sin(theta_n)],axis = 1)\n",
    "Yn = torch.zeros_like(r_n)\n",
    "\n",
    "#汇总样本\n",
    "X = torch.cat([Xp,Xn],axis = 0)\n",
    "Y = torch.cat([Yp,Yn],axis = 0)\n",
    "\n",
    "\n",
    "#可视化\n",
    "plt.figure(figsize = (6,6))\n",
    "plt.scatter(Xp[:,0],Xp[:,1],c = \"r\")\n",
    "plt.scatter(Xn[:,0],Xn[:,1],c = \"g\")\n",
    "plt.legend([\"positive\",\"negative\"]);\n"
   ]
  },
  {
   "cell_type": "markdown",
   "id": "e0e696da",
   "metadata": {},
   "source": [
    "![](./data/3-2-分类数据可视化.png)"
   ]
  },
  {
   "cell_type": "code",
   "execution_count": null,
   "id": "98e6f048",
   "metadata": {},
   "outputs": [],
   "source": [
    "#构建输入数据管道\n",
    "ds = TensorDataset(X,Y)\n",
    "dl = DataLoader(ds,batch_size = 10,shuffle=True,num_workers=2)\n",
    "\n"
   ]
  },
  {
   "cell_type": "markdown",
   "id": "93c70cd9",
   "metadata": {},
   "source": [
    "**2, 定义模型**"
   ]
  },
  {
   "cell_type": "code",
   "execution_count": null,
   "id": "b5f8942c",
   "metadata": {},
   "outputs": [],
   "source": [
    "class DNNModel(nn.Module):\n",
    "    def __init__(self):\n",
    "        super(DNNModel, self).__init__()\n",
    "        self.fc1 = nn.Linear(2,4)\n",
    "        self.fc2 = nn.Linear(4,8) \n",
    "        self.fc3 = nn.Linear(8,1)\n",
    "\n",
    "    # 正向传播\n",
    "    def forward(self,x):\n",
    "        x = F.relu(self.fc1(x))\n",
    "        x = F.relu(self.fc2(x))\n",
    "        y = nn.Sigmoid()(self.fc3(x))\n",
    "        return y\n",
    "    \n",
    "    # 损失函数\n",
    "    def loss_fn(self,y_pred,y_true):\n",
    "        return nn.BCELoss()(y_pred,y_true)\n",
    "    \n",
    "    # 评估函数(准确率)\n",
    "    def metric_fn(self,y_pred,y_true):\n",
    "        y_pred = torch.where(y_pred>0.5,torch.ones_like(y_pred,dtype = torch.float32),\n",
    "                          torch.zeros_like(y_pred,dtype = torch.float32))\n",
    "        acc = torch.mean(1-torch.abs(y_true-y_pred))\n",
    "        return acc\n",
    "    \n",
    "    # 优化器\n",
    "    @property\n",
    "    def optimizer(self):\n",
    "        return torch.optim.Adam(self.parameters(),lr = 0.001)\n",
    "    \n",
    "model = DNNModel()\n"
   ]
  },
  {
   "cell_type": "code",
   "execution_count": null,
   "id": "a9bf0327",
   "metadata": {},
   "outputs": [],
   "source": [
    "# 测试模型结构\n",
    "(features,labels) = next(iter(dl))\n",
    "predictions = model(features)\n",
    "\n",
    "loss = model.loss_fn(predictions,labels)\n",
    "metric = model.metric_fn(predictions,labels)\n",
    "\n",
    "print(\"init loss:\",loss.item())\n",
    "print(\"init metric:\",metric.item())\n"
   ]
  },
  {
   "cell_type": "markdown",
   "id": "8d0c96de",
   "metadata": {},
   "source": [
    "```\n",
    "init loss: 0.7065666913986206\n",
    "init metric: 0.6000000238418579\n",
    "```"
   ]
  },
  {
   "cell_type": "code",
   "execution_count": null,
   "id": "9d2c094c",
   "metadata": {},
   "outputs": [],
   "source": []
  },
  {
   "cell_type": "markdown",
   "id": "45c684f7",
   "metadata": {},
   "source": [
    "**3，训练模型**"
   ]
  },
  {
   "cell_type": "code",
   "execution_count": null,
   "id": "6c69fa16",
   "metadata": {},
   "outputs": [],
   "source": [
    "def train_step(model, features, labels):\n",
    "    \n",
    "    # 正向传播求损失\n",
    "    predictions = model(features)\n",
    "    loss = model.loss_fn(predictions,labels)\n",
    "    metric = model.metric_fn(predictions,labels)\n",
    "    \n",
    "    # 反向传播求梯度\n",
    "    loss.backward()\n",
    "    \n",
    "    # 更新模型参数\n",
    "    model.optimizer.step()\n",
    "    model.optimizer.zero_grad()\n",
    "    \n",
    "    return loss.item(),metric.item()\n",
    "\n",
    "# 测试train_step效果\n",
    "features,labels = next(iter(dl))\n",
    "train_step(model,features,labels)\n"
   ]
  },
  {
   "cell_type": "markdown",
   "id": "8f4680af",
   "metadata": {},
   "source": [
    "```\n",
    "(0.6048880815505981, 0.699999988079071)\n",
    "```"
   ]
  },
  {
   "cell_type": "code",
   "execution_count": null,
   "id": "9d2aac2d",
   "metadata": {},
   "outputs": [],
   "source": [
    "def train_model(model,epochs):\n",
    "    for epoch in range(1,epochs+1):\n",
    "        loss_list,metric_list = [],[]\n",
    "        for features, labels in dl:\n",
    "            lossi,metrici = train_step(model,features,labels)\n",
    "            loss_list.append(lossi)\n",
    "            metric_list.append(metrici)\n",
    "        loss = np.mean(loss_list)\n",
    "        metric = np.mean(metric_list)\n",
    "\n",
    "        if epoch%10==0:\n",
    "            printbar()\n",
    "            print(\"epoch =\",epoch,\"loss = \",loss,\"metric = \",metric)\n",
    "        \n",
    "train_model(model,epochs = 50)"
   ]
  },
  {
   "cell_type": "markdown",
   "id": "7eee978b",
   "metadata": {},
   "source": [
    "```\n",
    "================================================================================2022-07-16 18:06:47\n",
    "epoch = 10 loss =  0.266319769853726 metric =  0.9034999929368496\n",
    "\n",
    "================================================================================2022-07-16 18:07:13\n",
    "epoch = 20 loss =  0.21627795644046274 metric =  0.9099999918043613\n",
    "\n",
    "================================================================================2022-07-16 18:07:40\n",
    "epoch = 30 loss =  0.23485902241198345 metric =  0.9142499916255474\n",
    "\n",
    "================================================================================2022-07-16 18:08:06\n",
    "epoch = 40 loss =  0.24796139190076247 metric =  0.9192499934136867\n",
    "\n",
    "================================================================================2022-07-16 18:08:33\n",
    "epoch = 50 loss =  0.2608402820147239 metric =  0.9224999941885471\n",
    "```"
   ]
  },
  {
   "cell_type": "code",
   "execution_count": null,
   "id": "8848ce54",
   "metadata": {},
   "outputs": [],
   "source": []
  },
  {
   "cell_type": "code",
   "execution_count": null,
   "id": "c7a7878a",
   "metadata": {},
   "outputs": [],
   "source": [
    "# 结果可视化\n",
    "fig, (ax1,ax2) = plt.subplots(nrows=1,ncols=2,figsize = (12,5))\n",
    "ax1.scatter(Xp[:,0],Xp[:,1], c=\"r\")\n",
    "ax1.scatter(Xn[:,0],Xn[:,1],c = \"g\")\n",
    "ax1.legend([\"positive\",\"negative\"]);\n",
    "ax1.set_title(\"y_true\");\n",
    "\n",
    "Xp_pred = X[torch.squeeze(model.forward(X)>=0.5)]\n",
    "Xn_pred = X[torch.squeeze(model.forward(X)<0.5)]\n",
    "\n",
    "ax2.scatter(Xp_pred[:,0],Xp_pred[:,1],c = \"r\")\n",
    "ax2.scatter(Xn_pred[:,0],Xn_pred[:,1],c = \"g\")\n",
    "ax2.legend([\"positive\",\"negative\"]);\n",
    "ax2.set_title(\"y_pred\");\n"
   ]
  },
  {
   "cell_type": "markdown",
   "id": "b9f4b622",
   "metadata": {},
   "source": [
    "![](./data/3-2-分类结果可视化.png)"
   ]
  },
  {
   "cell_type": "code",
   "execution_count": null,
   "id": "49539672",
   "metadata": {},
   "outputs": [],
   "source": []
  },
  {
   "cell_type": "markdown",
   "id": "f48b1e02",
   "metadata": {},
   "source": [
    "**如果本书对你有所帮助，想鼓励一下作者，记得给本项目加一颗星星star⭐️，并分享给你的朋友们喔😊!** \n",
    "\n",
    "如果对本书内容理解上有需要进一步和作者交流的地方，欢迎在公众号\"算法美食屋\"下留言。作者时间和精力有限，会酌情予以回复。\n",
    "\n",
    "也可以在公众号后台回复关键字：**加群**，加入读者交流群和大家讨论。\n",
    "\n",
    "![算法美食屋logo.png](https://tva1.sinaimg.cn/large/e6c9d24egy1h41m2zugguj20k00b9q46.jpg)"
   ]
  }
 ],
 "metadata": {
  "jupytext": {
   "cell_metadata_filter": "-all",
   "formats": "ipynb,md",
   "main_language": "python"
  }
 },
 "nbformat": 4,
 "nbformat_minor": 5
}
