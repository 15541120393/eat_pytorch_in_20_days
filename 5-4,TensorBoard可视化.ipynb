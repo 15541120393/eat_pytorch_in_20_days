{
 "cells": [
  {
   "cell_type": "markdown",
   "id": "8bf3407b",
   "metadata": {},
   "source": [
    "# 5-4,TensorBoard可视化\n",
    "\n",
    "在我们的炼丹过程中，如果能够使用丰富的图像来展示模型的结构，指标的变化，参数的分布，输入的形态等信息，无疑会提升我们对问题的洞察力，并增加许多炼丹的乐趣。\n",
    "\n",
    "TensorBoard正是这样一个神奇的炼丹可视化辅助工具。它原是TensorFlow的小弟，但它也能够很好地和Pytorch进行配合。甚至在Pytorch中使用TensorBoard比TensorFlow中使用TensorBoard还要来的更加简单和自然。\n",
    "\n",
    "Pytorch中利用TensorBoard可视化的大概过程如下：\n",
    "\n",
    "首先在Pytorch中指定一个目录创建一个torch.utils.tensorboard.SummaryWriter日志写入器。\n",
    "\n",
    "然后根据需要可视化的信息，利用日志写入器将相应信息日志写入我们指定的目录。\n",
    "\n",
    "最后就可以传入日志目录作为参数启动TensorBoard，然后就可以在TensorBoard中愉快地看片了。\n",
    "\n",
    "我们主要介绍Pytorch中利用TensorBoard进行如下方面信息的可视化的方法。\n",
    "\n",
    "* 可视化模型结构： writer.add_graph\n",
    "\n",
    "* 可视化指标变化： writer.add_scalar\n",
    "\n",
    "* 可视化参数分布： writer.add_histogram\n",
    "\n",
    "* 可视化原始图像： writer.add_image 或 writer.add_images\n",
    "\n",
    "* 可视化人工绘图： writer.add_figure\n",
    "\n",
    "\n",
    "这些方法尽管非常简单，但每次训练的时候都要调取调试还是非常麻烦的。\n",
    "\n",
    "作者在torchkeras库中集成了一个torchkeras.callback.TensorBoard回调函数工具，\n",
    "\n",
    "利用该工具配合torchkeras.LightModel可以用极少的代码在TensorBoard中实现绝大部分常用的可视化功能。\n",
    "\n",
    "\n",
    "包括：\n",
    "\n",
    "* 可视化模型结构\n",
    "\n",
    "* 可视化指标变化\n",
    "\n",
    "* 可视化参数分布\n",
    "\n",
    "* 可视化超参调整\n",
    "\n",
    "可以说非常方便哦。😋😋 \n",
    "\n",
    "\n",
    "\n",
    "本篇结构：\n",
    "\n",
    "一，可视化模型结构\n",
    "\n",
    "二，可视化指标变化\n",
    "\n",
    "三，可视化参数分布\n",
    "\n",
    "四，可视化原始图像\n",
    "\n",
    "五，可视化人工绘图\n",
    "\n",
    "六，torchkeras中的TensorBoard回调函数\n",
    "\n",
    "\n"
   ]
  },
  {
   "cell_type": "code",
   "execution_count": null,
   "id": "b7a386b5",
   "metadata": {},
   "outputs": [],
   "source": [
    "#!pip install torchkeras==3.2.3 -i https://pypi.python.org/simple"
   ]
  },
  {
   "cell_type": "code",
   "execution_count": null,
   "id": "0cd99c30",
   "metadata": {},
   "outputs": [],
   "source": [
    "import torch \n",
    "import torchkeras\n",
    "\n",
    "print(\"torch.__version__=\"+torch.__version__) \n",
    "print(\"torchkeras.__version__=\"+torchkeras.__version__) "
   ]
  },
  {
   "cell_type": "markdown",
   "id": "257008a6",
   "metadata": {},
   "source": [
    "```\n",
    "torch.__version__=1.10.0\n",
    "torchkeras.__version__=3.2.3\n",
    "```"
   ]
  },
  {
   "cell_type": "code",
   "execution_count": null,
   "id": "657e97d3",
   "metadata": {},
   "outputs": [],
   "source": []
  },
  {
   "cell_type": "markdown",
   "id": "24716404",
   "metadata": {},
   "source": [
    "## 一，可视化模型结构"
   ]
  },
  {
   "cell_type": "code",
   "execution_count": null,
   "id": "e8b02805",
   "metadata": {},
   "outputs": [],
   "source": [
    "import torch \n",
    "from torch import nn\n",
    "from torch.utils.tensorboard import SummaryWriter\n",
    "import torchkeras "
   ]
  },
  {
   "cell_type": "code",
   "execution_count": null,
   "id": "ae37170d",
   "metadata": {},
   "outputs": [],
   "source": [
    "class Net(nn.Module):\n",
    "    \n",
    "    def __init__(self):\n",
    "        super(Net, self).__init__()\n",
    "        self.conv1 = nn.Conv2d(in_channels=3,out_channels=32,kernel_size = 3)\n",
    "        self.pool = nn.MaxPool2d(kernel_size = 2,stride = 2)\n",
    "        self.conv2 = nn.Conv2d(in_channels=32,out_channels=64,kernel_size = 5)\n",
    "        self.dropout = nn.Dropout2d(p = 0.1)\n",
    "        self.adaptive_pool = nn.AdaptiveMaxPool2d((1,1))\n",
    "        self.flatten = nn.Flatten()\n",
    "        self.linear1 = nn.Linear(64,32)\n",
    "        self.relu = nn.ReLU()\n",
    "        self.linear2 = nn.Linear(32,1)\n",
    "        \n",
    "    def forward(self,x):\n",
    "        x = self.conv1(x)\n",
    "        x = self.pool(x)\n",
    "        x = self.conv2(x)\n",
    "        x = self.pool(x)\n",
    "        x = self.dropout(x)\n",
    "        x = self.adaptive_pool(x)\n",
    "        x = self.flatten(x)\n",
    "        x = self.linear1(x)\n",
    "        x = self.relu(x)\n",
    "        y = self.linear2(x)\n",
    "        return y\n",
    "        \n",
    "net = Net()\n",
    "print(net)"
   ]
  },
  {
   "cell_type": "markdown",
   "id": "7b9b3e32",
   "metadata": {},
   "source": [
    "```\n",
    "Net(\n",
    "  (conv1): Conv2d(3, 32, kernel_size=(3, 3), stride=(1, 1))\n",
    "  (pool): MaxPool2d(kernel_size=2, stride=2, padding=0, dilation=1, ceil_mode=False)\n",
    "  (conv2): Conv2d(32, 64, kernel_size=(5, 5), stride=(1, 1))\n",
    "  (dropout): Dropout2d(p=0.1, inplace=False)\n",
    "  (adaptive_pool): AdaptiveMaxPool2d(output_size=(1, 1))\n",
    "  (flatten): Flatten(start_dim=1, end_dim=-1)\n",
    "  (linear1): Linear(in_features=64, out_features=32, bias=True)\n",
    "  (relu): ReLU()\n",
    "  (linear2): Linear(in_features=32, out_features=1, bias=True)\n",
    ")\n",
    "```"
   ]
  },
  {
   "cell_type": "code",
   "execution_count": null,
   "id": "cc54dda7",
   "metadata": {},
   "outputs": [],
   "source": [
    "from torchkeras import summary \n",
    "summary(net,input_shape= (3,32,32));"
   ]
  },
  {
   "cell_type": "markdown",
   "id": "5ddbee62",
   "metadata": {},
   "source": [
    "```\n",
    "--------------------------------------------------------------------------\n",
    "Layer (type)                            Output Shape              Param #\n",
    "==========================================================================\n",
    "Conv2d-1                            [-1, 32, 30, 30]                  896\n",
    "MaxPool2d-2                         [-1, 32, 15, 15]                    0\n",
    "Conv2d-3                            [-1, 64, 11, 11]               51,264\n",
    "MaxPool2d-4                           [-1, 64, 5, 5]                    0\n",
    "Dropout2d-5                           [-1, 64, 5, 5]                    0\n",
    "AdaptiveMaxPool2d-6                   [-1, 64, 1, 1]                    0\n",
    "Flatten-7                                   [-1, 64]                    0\n",
    "Linear-8                                    [-1, 32]                2,080\n",
    "ReLU-9                                      [-1, 32]                    0\n",
    "Linear-10                                    [-1, 1]                   33\n",
    "==========================================================================\n",
    "Total params: 54,273\n",
    "Trainable params: 54,273\n",
    "Non-trainable params: 0\n",
    "--------------------------------------------------------------------------\n",
    "Input size (MB): 0.011719\n",
    "Forward/backward pass size (MB): 0.359627\n",
    "Params size (MB): 0.207035\n",
    "Estimated Total Size (MB): 0.578381\n",
    "--------------------------------------------------------------------------\n",
    "```"
   ]
  },
  {
   "cell_type": "code",
   "execution_count": null,
   "id": "9e0a5eac",
   "metadata": {},
   "outputs": [],
   "source": [
    "writer = SummaryWriter('./data/tensorboard')\n",
    "writer.add_graph(net,input_to_model = torch.rand(1,3,32,32))\n",
    "writer.close()"
   ]
  },
  {
   "cell_type": "code",
   "execution_count": null,
   "id": "8545c243",
   "metadata": {},
   "outputs": [],
   "source": [
    "%load_ext tensorboard\n",
    "#%tensorboard --logdir ./data/tensorboard"
   ]
  },
  {
   "cell_type": "code",
   "execution_count": null,
   "id": "453aacc8",
   "metadata": {},
   "outputs": [],
   "source": [
    "from tensorboard import notebook\n",
    "#查看启动的tensorboard程序\n",
    "notebook.list() "
   ]
  },
  {
   "cell_type": "code",
   "execution_count": null,
   "id": "00ef2d81",
   "metadata": {},
   "outputs": [],
   "source": [
    "#启动tensorboard程序\n",
    "notebook.start(\"--logdir ./data/tensorboard\")\n",
    "#等价于在命令行中执行 tensorboard --logdir ./data/tensorboard\n",
    "#可以在浏览器中打开 http://localhost:6006/ 查看"
   ]
  },
  {
   "cell_type": "markdown",
   "id": "3b9bb350",
   "metadata": {},
   "source": [
    "![](./data/5-4-graph结构.png)"
   ]
  },
  {
   "cell_type": "code",
   "execution_count": null,
   "id": "f26bcaed",
   "metadata": {},
   "outputs": [],
   "source": []
  },
  {
   "cell_type": "markdown",
   "id": "7702fc2e",
   "metadata": {},
   "source": [
    "## 二，可视化指标变化"
   ]
  },
  {
   "cell_type": "markdown",
   "id": "62f996cb",
   "metadata": {},
   "source": [
    "有时候在训练过程中，如果能够实时动态地查看loss和各种metric的变化曲线，那么无疑可以帮助我们更加直观地了解模型的训练情况。\n",
    "\n",
    "注意，writer.add_scalar仅能对标量的值的变化进行可视化。因此它一般用于对loss和metric的变化进行可视化分析。\n"
   ]
  },
  {
   "cell_type": "code",
   "execution_count": null,
   "id": "d3df8c70",
   "metadata": {},
   "outputs": [],
   "source": [
    "import numpy as np \n",
    "import torch \n",
    "from torch.utils.tensorboard import SummaryWriter\n",
    "\n",
    "\n",
    "# f(x) = a*x**2 + b*x + c的最小值\n",
    "x = torch.tensor(0.0,requires_grad = True) # x需要被求导\n",
    "a = torch.tensor(1.0)\n",
    "b = torch.tensor(-2.0)\n",
    "c = torch.tensor(1.0)\n",
    "\n",
    "optimizer = torch.optim.SGD(params=[x],lr = 0.01)\n",
    "\n",
    "\n",
    "def f(x):\n",
    "    result = a*torch.pow(x,2) + b*x + c \n",
    "    return(result)\n",
    "\n",
    "writer = SummaryWriter('./data/tensorboard')\n",
    "for i in range(500):\n",
    "    optimizer.zero_grad()\n",
    "    y = f(x)\n",
    "    y.backward()\n",
    "    optimizer.step()\n",
    "    writer.add_scalar(\"x\",x.item(),i) #日志中记录x在第step i 的值\n",
    "    writer.add_scalar(\"y\",y.item(),i) #日志中记录y在第step i 的值\n",
    "\n",
    "writer.close()\n",
    "    \n",
    "print(\"y=\",f(x).data,\";\",\"x=\",x.data)"
   ]
  },
  {
   "cell_type": "markdown",
   "id": "03458d74",
   "metadata": {},
   "source": [
    "```\n",
    "y= tensor(0.) ; x= tensor(1.0000)\n",
    "```"
   ]
  },
  {
   "cell_type": "markdown",
   "id": "2d967087",
   "metadata": {},
   "source": [
    "![](./data/5-4-指标变化.png)"
   ]
  },
  {
   "cell_type": "code",
   "execution_count": null,
   "id": "944c1615",
   "metadata": {},
   "outputs": [],
   "source": []
  },
  {
   "cell_type": "markdown",
   "id": "9404e49d",
   "metadata": {},
   "source": [
    "## 三，可视化参数分布"
   ]
  },
  {
   "cell_type": "markdown",
   "id": "b8ce4704",
   "metadata": {},
   "source": [
    "如果需要对模型的参数(一般非标量)在训练过程中的变化进行可视化，可以使用 writer.add_histogram。\n",
    "\n",
    "它能够观测张量值分布的直方图随训练步骤的变化趋势。"
   ]
  },
  {
   "cell_type": "code",
   "execution_count": null,
   "id": "f175bcf7",
   "metadata": {},
   "outputs": [],
   "source": [
    "import numpy as np \n",
    "import torch \n",
    "from torch.utils.tensorboard import SummaryWriter\n",
    "\n",
    "\n",
    "# 创建正态分布的张量模拟参数矩阵\n",
    "def norm(mean,std):\n",
    "    t = std*torch.randn((100,20))+mean\n",
    "    return t\n",
    "\n",
    "writer = SummaryWriter('./data/tensorboard')\n",
    "for step,mean in enumerate(range(-10,10,1)):\n",
    "    w = norm(mean,1)\n",
    "    writer.add_histogram(\"w\",w, step)\n",
    "    writer.flush()\n",
    "writer.close()\n"
   ]
  },
  {
   "cell_type": "markdown",
   "id": "a77b37ac",
   "metadata": {},
   "source": [
    "![](./data/5-4-张量分布.png)"
   ]
  },
  {
   "cell_type": "code",
   "execution_count": null,
   "id": "2e2310df",
   "metadata": {},
   "outputs": [],
   "source": []
  },
  {
   "cell_type": "markdown",
   "id": "ae1468da",
   "metadata": {},
   "source": [
    "## 四，可视化原始图像"
   ]
  },
  {
   "cell_type": "markdown",
   "id": "895df3a8",
   "metadata": {},
   "source": [
    "如果我们做图像相关的任务，也可以将原始的图片在tensorboard中进行可视化展示。\n",
    "\n",
    "如果只写入一张图片信息，可以使用writer.add_image。\n",
    "\n",
    "如果要写入多张图片信息，可以使用writer.add_images。\n",
    "\n",
    "也可以用 torchvision.utils.make_grid将多张图片拼成一张图片，然后用writer.add_image写入。\n",
    "\n",
    "注意，传入的是代表图片信息的Pytorch中的张量数据。\n"
   ]
  },
  {
   "cell_type": "code",
   "execution_count": null,
   "id": "e8b981de",
   "metadata": {},
   "outputs": [],
   "source": [
    "import torch\n",
    "import torchvision\n",
    "from torch import nn\n",
    "from torch.utils.data import Dataset,DataLoader\n",
    "from torchvision import transforms as T,datasets \n",
    "\n",
    "\n",
    "transform_img = T.Compose(\n",
    "    [T.ToTensor()])\n",
    "\n",
    "def transform_label(x):\n",
    "    return torch.tensor([x]).float()\n"
   ]
  },
  {
   "cell_type": "code",
   "execution_count": null,
   "id": "e4ac84c8",
   "metadata": {},
   "outputs": [],
   "source": [
    "ds_train = datasets.ImageFolder(\"./data/cifar2/train/\",\n",
    "            transform = transform_img,target_transform= transform_label)\n",
    "ds_val = datasets.ImageFolder(\"./data/cifar2/test/\",\n",
    "            transform = transform_img,target_transform= transform_label)\n",
    "\n",
    "print(ds_train.class_to_idx)\n",
    "\n",
    "dl_train = DataLoader(ds_train,batch_size = 50,shuffle = True)\n",
    "dl_val = DataLoader(ds_val,batch_size = 50,shuffle = True)\n",
    "\n",
    "images,labels = next(iter(dl_train))\n",
    "\n",
    "# 仅查看一张图片\n",
    "writer = SummaryWriter('./data/tensorboard')\n",
    "writer.add_image('images[0]', images[0])\n",
    "writer.close()\n",
    "\n",
    "# 将多张图片拼接成一张图片，中间用黑色网格分割\n",
    "writer = SummaryWriter('./data/tensorboard')\n",
    "# create grid of images\n",
    "img_grid = torchvision.utils.make_grid(images)\n",
    "writer.add_image('image_grid', img_grid)\n",
    "writer.close()\n",
    "\n",
    "# 将多张图片直接写入\n",
    "writer = SummaryWriter('./data/tensorboard')\n",
    "writer.add_images(\"images\",images,global_step = 0)\n",
    "writer.close()\n"
   ]
  },
  {
   "cell_type": "markdown",
   "id": "1459c87d",
   "metadata": {},
   "source": [
    "```\n",
    "{'0_airplane': 0, '1_automobile': 1}\n",
    "```"
   ]
  },
  {
   "cell_type": "code",
   "execution_count": null,
   "id": "c001c5e4",
   "metadata": {},
   "outputs": [],
   "source": []
  },
  {
   "cell_type": "markdown",
   "id": "445ded04",
   "metadata": {},
   "source": [
    "![](./data/5-4-原始图像可视化.png)"
   ]
  },
  {
   "cell_type": "code",
   "execution_count": null,
   "id": "ab5e3cc3",
   "metadata": {},
   "outputs": [],
   "source": []
  },
  {
   "cell_type": "markdown",
   "id": "18582555",
   "metadata": {},
   "source": [
    "## 五，可视化人工绘图"
   ]
  },
  {
   "cell_type": "markdown",
   "id": "ea92bfa0",
   "metadata": {},
   "source": [
    "如果我们将matplotlib绘图的结果再 tensorboard中展示，可以使用 add_figure.\n",
    "\n",
    "注意，和writer.add_image不同的是，writer.add_figure需要传入matplotlib的figure对象。\n"
   ]
  },
  {
   "cell_type": "code",
   "execution_count": null,
   "id": "99e152a5",
   "metadata": {},
   "outputs": [],
   "source": [
    "import torch\n",
    "import torchvision\n",
    "from torch import nn\n",
    "from torch.utils.data import Dataset,DataLoader\n",
    "from torchvision import transforms as T,datasets \n",
    "\n",
    "transform_img = T.Compose(\n",
    "    [T.ToTensor()])\n",
    "\n",
    "def transform_label(x):\n",
    "    return torch.tensor([x]).float()\n",
    "\n",
    "\n",
    "ds_train = datasets.ImageFolder(\"./data/cifar2/train/\",\n",
    "            transform = transform_img,target_transform= transform_label)\n",
    "ds_val = datasets.ImageFolder(\"./data/cifar2/test/\",\n",
    "            transform = transform_img,target_transform= transform_label)\n",
    "\n",
    "print(ds_train.class_to_idx)\n",
    "\n",
    "dl_train = DataLoader(ds_train,batch_size = 50,shuffle = True)\n",
    "dl_val = DataLoader(ds_val,batch_size = 50,shuffle = True)\n",
    "\n",
    "images,labels = next(iter(dl_train))"
   ]
  },
  {
   "cell_type": "markdown",
   "id": "a60a52a7",
   "metadata": {},
   "source": [
    "```\n",
    "{'0_airplane': 0, '1_automobile': 1}\n",
    "```"
   ]
  },
  {
   "cell_type": "code",
   "execution_count": null,
   "id": "19ef9c9f",
   "metadata": {},
   "outputs": [],
   "source": [
    "%matplotlib inline\n",
    "%config InlineBackend.figure_format = 'svg'\n",
    "from matplotlib import pyplot as plt \n",
    "\n",
    "figure = plt.figure(figsize=(8,8)) \n",
    "for i in range(9):\n",
    "    img,label = ds_train[i]\n",
    "    img = img.permute(1,2,0)\n",
    "    ax=plt.subplot(3,3,i+1)\n",
    "    ax.imshow(img.numpy())\n",
    "    ax.set_title(\"label = %d\"%label.item())\n",
    "    ax.set_xticks([])\n",
    "    ax.set_yticks([]) \n",
    "plt.show()"
   ]
  },
  {
   "cell_type": "markdown",
   "id": "9ddd7f2b",
   "metadata": {},
   "source": [
    "![](./data/5-4-九宫格.png)"
   ]
  },
  {
   "cell_type": "code",
   "execution_count": null,
   "id": "223dbb27",
   "metadata": {},
   "outputs": [],
   "source": [
    "writer = SummaryWriter('./data/tensorboard')\n",
    "writer.add_figure('figure',figure,global_step=0)\n",
    "writer.close()                         "
   ]
  },
  {
   "cell_type": "markdown",
   "id": "79149475",
   "metadata": {},
   "source": [
    "![](./data/5-4-可视化人工绘图.png)"
   ]
  },
  {
   "cell_type": "code",
   "execution_count": null,
   "id": "11dc56f7",
   "metadata": {},
   "outputs": [],
   "source": []
  },
  {
   "cell_type": "markdown",
   "id": "776fbda0",
   "metadata": {},
   "source": [
    "## 六，torchkeras中的TensorBoard回调函数"
   ]
  },
  {
   "cell_type": "markdown",
   "id": "e72d113a",
   "metadata": {},
   "source": [
    "下面是一个在torchkeras中调用TensorBoard回调函数实现\n",
    "常用可视化功能的完整范例。\n",
    "\n",
    "非常简单。\n"
   ]
  },
  {
   "cell_type": "code",
   "execution_count": null,
   "id": "dd1e5463",
   "metadata": {},
   "outputs": [],
   "source": []
  },
  {
   "cell_type": "code",
   "execution_count": null,
   "id": "bf4d2161",
   "metadata": {},
   "outputs": [],
   "source": [
    "import numpy as np \n",
    "import pandas as pd \n",
    "from matplotlib import pyplot as plt\n",
    "import torch\n",
    "from torch import nn\n",
    "import torch.nn.functional as F\n",
    "from torch.utils.data import Dataset,DataLoader,TensorDataset\n",
    "\n",
    "import torchkeras #Attention this line \n"
   ]
  },
  {
   "cell_type": "markdown",
   "id": "f0cbb3ee",
   "metadata": {},
   "source": [
    "### 1，准备数据"
   ]
  },
  {
   "cell_type": "code",
   "execution_count": null,
   "id": "dfcf8541",
   "metadata": {},
   "outputs": [],
   "source": [
    "%matplotlib inline\n",
    "%config InlineBackend.figure_format = 'svg'\n",
    "\n",
    "#number of samples\n",
    "n_positive,n_negative = 2000,2000\n",
    "\n",
    "#positive samples\n",
    "r_p = 5.0 + torch.normal(0.0,1.0,size = [n_positive,1]) \n",
    "theta_p = 2*np.pi*torch.rand([n_positive,1])\n",
    "Xp = torch.cat([r_p*torch.cos(theta_p),r_p*torch.sin(theta_p)],axis = 1)\n",
    "Yp = torch.ones_like(r_p)\n",
    "\n",
    "#negative samples\n",
    "r_n = 8.0 + torch.normal(0.0,1.0,size = [n_negative,1]) \n",
    "theta_n = 2*np.pi*torch.rand([n_negative,1])\n",
    "Xn = torch.cat([r_n*torch.cos(theta_n),r_n*torch.sin(theta_n)],axis = 1)\n",
    "Yn = torch.zeros_like(r_n)\n",
    "\n",
    "#concat positive and negative samples\n",
    "X = torch.cat([Xp,Xn],axis = 0)\n",
    "Y = torch.cat([Yp,Yn],axis = 0)\n",
    "\n",
    "\n",
    "#visual samples\n",
    "plt.figure(figsize = (6,6))\n",
    "plt.scatter(Xp[:,0],Xp[:,1],c = \"r\")\n",
    "plt.scatter(Xn[:,0],Xn[:,1],c = \"g\")\n",
    "plt.legend([\"positive\",\"negative\"]);\n"
   ]
  },
  {
   "cell_type": "code",
   "execution_count": null,
   "id": "23218dac",
   "metadata": {},
   "outputs": [],
   "source": [
    "ds = TensorDataset(X,Y)\n",
    "ds_train,ds_val = torch.utils.data.random_split(ds,[int(len(ds)*0.7),len(ds)-int(len(ds)*0.7)])\n",
    "dl_train = DataLoader(ds_train,batch_size = 200,shuffle=True,num_workers=2)\n",
    "dl_val = DataLoader(ds_val,batch_size = 200,num_workers=2)\n",
    "\n",
    "\n",
    "for features,labels in dl_train:\n",
    "    break\n",
    "print(features.shape)\n",
    "print(labels.shape)\n"
   ]
  },
  {
   "cell_type": "code",
   "execution_count": null,
   "id": "b7f56a84",
   "metadata": {},
   "outputs": [],
   "source": []
  },
  {
   "cell_type": "markdown",
   "id": "1b3c90dc",
   "metadata": {},
   "source": [
    "### 2，定义模型"
   ]
  },
  {
   "cell_type": "code",
   "execution_count": null,
   "id": "1019bfae",
   "metadata": {},
   "outputs": [],
   "source": [
    "class Net(nn.Module):  \n",
    "    def __init__(self):\n",
    "        super().__init__()\n",
    "        self.fc1 = nn.Linear(2,4)\n",
    "        self.fc2 = nn.Linear(4,8) \n",
    "        self.fc3 = nn.Linear(8,1)\n",
    "        \n",
    "    def forward(self,x):\n",
    "        x = F.relu(self.fc1(x))\n",
    "        x = F.relu(self.fc2(x))\n",
    "        y = self.fc3(x) #don't need nn.Sigmoid()\n",
    "        return y\n",
    "         \n"
   ]
  },
  {
   "cell_type": "code",
   "execution_count": null,
   "id": "9cab0b5e",
   "metadata": {},
   "outputs": [],
   "source": [
    "from torchkeras.metrics import Accuracy \n",
    "\n",
    "net = Net() \n",
    "loss_fn = nn.BCEWithLogitsLoss()\n",
    "metric_dict = {\"acc\":Accuracy()}\n",
    "\n",
    "lr = 0.03\n",
    "optimizer = torch.optim.Adam(net.parameters(), lr=lr)\n",
    "lr_scheduler = torch.optim.lr_scheduler.StepLR(optimizer, step_size=10, gamma=0.0001)\n",
    "\n",
    "model = torchkeras.LightModel(net,\n",
    "                   loss_fn = loss_fn,\n",
    "                   metrics_dict= metric_dict,\n",
    "                   optimizer = optimizer,\n",
    "                   lr_scheduler = lr_scheduler,\n",
    "                  )       \n",
    "\n",
    "from torchkeras import summary\n",
    "summary(model,input_data=features);\n"
   ]
  },
  {
   "cell_type": "code",
   "execution_count": null,
   "id": "d9351f56",
   "metadata": {},
   "outputs": [],
   "source": []
  },
  {
   "cell_type": "markdown",
   "id": "d1986375",
   "metadata": {},
   "source": [
    "### 3，训练模型"
   ]
  },
  {
   "cell_type": "code",
   "execution_count": null,
   "id": "8ef27156",
   "metadata": {},
   "outputs": [],
   "source": [
    "import pytorch_lightning as pl  \n",
    "from torchkeras.callbacks import TensorBoard"
   ]
  },
  {
   "cell_type": "code",
   "execution_count": null,
   "id": "6a5a9042",
   "metadata": {},
   "outputs": [],
   "source": [
    "#1，设置回调函数\n",
    "model_ckpt = pl.callbacks.ModelCheckpoint(\n",
    "    monitor='val_loss',\n",
    "    save_top_k=1,\n",
    "    mode='min'\n",
    ")\n",
    "\n",
    "early_stopping = pl.callbacks.EarlyStopping(monitor = 'val_loss',\n",
    "                           patience=3,\n",
    "                           mode = 'min'\n",
    "                          )\n",
    "\n",
    "tensorboard = TensorBoard(\n",
    "    save_dir='tb_logs',\n",
    "    model_name='cnn',\n",
    "    log_weight=True,\n",
    "    log_weight_freq=2, #没两个epoch记录一次权重可视化\n",
    "    log_graph=True,\n",
    "    example_input_array=features,\n",
    "    log_hparams=True, #记录超参\n",
    "    hparams_dict={\"lr\":lr},\n",
    ")\n",
    "\n",
    "#2，设置训练参数\n",
    "\n",
    "# gpus=0 则使用cpu训练，gpus=1则使用1个gpu训练，gpus=2则使用2个gpu训练，gpus=-1则使用所有gpu训练，\n",
    "# gpus=[0,1]则指定使用0号和1号gpu训练， gpus=\"0,1,2,3\"则使用0,1,2,3号gpu训练\n",
    "# tpus=1 则使用1个tpu训练\n",
    "trainer = pl.Trainer(logger=True,\n",
    "                     min_epochs=3,max_epochs=10,\n",
    "                     gpus=0,\n",
    "                     callbacks = [model_ckpt,early_stopping,tensorboard],\n",
    "                     enable_progress_bar = True) \n",
    "\n",
    "\n",
    "##4，启动训练循环\n",
    "trainer.fit(model,dl_train,dl_val)\n"
   ]
  },
  {
   "cell_type": "code",
   "execution_count": null,
   "id": "4aad295f",
   "metadata": {},
   "outputs": [],
   "source": []
  },
  {
   "cell_type": "markdown",
   "id": "c603d258",
   "metadata": {},
   "source": [
    "### 4, TensorBoard可视化监控"
   ]
  },
  {
   "cell_type": "code",
   "execution_count": null,
   "id": "dab3d92c",
   "metadata": {},
   "outputs": [],
   "source": [
    "#!tensorboard --logdir=\"./tb_logs\" --bind_all --port=6006"
   ]
  },
  {
   "cell_type": "code",
   "execution_count": null,
   "id": "0b648c62",
   "metadata": {},
   "outputs": [],
   "source": [
    "from tensorboard import notebook\n",
    "notebook.list() \n",
    "notebook.start(\"--logdir ./tb_logs\")"
   ]
  },
  {
   "cell_type": "code",
   "execution_count": null,
   "id": "b100ded9",
   "metadata": {},
   "outputs": [],
   "source": []
  },
  {
   "cell_type": "markdown",
   "id": "4d02e4bb",
   "metadata": {},
   "source": [
    "#### metrics\n",
    "\n",
    "![](https://tva1.sinaimg.cn/large/e6c9d24egy1h412vlgpqdj20n40cmaaf.jpg)\n",
    "\n",
    "#### graphs\n",
    "\n",
    "![](https://tva1.sinaimg.cn/large/e6c9d24egy1h4130c9g6lj20d90dd0st.jpg)\n",
    "\n",
    "#### histograms \n",
    "\n",
    "![](https://tva1.sinaimg.cn/large/e6c9d24egy1h4132au1scj20e709xjri.jpg) \n",
    "\n"
   ]
  },
  {
   "cell_type": "code",
   "execution_count": null,
   "id": "1892bc02",
   "metadata": {},
   "outputs": [],
   "source": []
  },
  {
   "cell_type": "markdown",
   "id": "d4c58721",
   "metadata": {},
   "source": [
    "**如果本书对你有所帮助，想鼓励一下作者，记得给本项目加一颗星星star⭐️，并分享给你的朋友们喔😊!** \n",
    "\n",
    "如果对本书内容理解上有需要进一步和作者交流的地方，欢迎在公众号\"算法美食屋\"下留言。作者时间和精力有限，会酌情予以回复。\n",
    "\n",
    "也可以在公众号后台回复关键字：**加群**，加入读者交流群和大家讨论。\n",
    "\n",
    "![算法美食屋logo.png](https://tva1.sinaimg.cn/large/e6c9d24egy1h41m2zugguj20k00b9q46.jpg)"
   ]
  },
  {
   "cell_type": "code",
   "execution_count": null,
   "id": "0097993b",
   "metadata": {},
   "outputs": [],
   "source": []
  },
  {
   "cell_type": "code",
   "execution_count": null,
   "id": "2f75da9d",
   "metadata": {},
   "outputs": [],
   "source": []
  }
 ],
 "metadata": {
  "jupytext": {
   "cell_metadata_filter": "-all",
   "formats": "ipynb,md",
   "main_language": "python"
  }
 },
 "nbformat": 4,
 "nbformat_minor": 5
}
